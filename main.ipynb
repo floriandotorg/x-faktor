{
 "cells": [
  {
   "cell_type": "code",
   "execution_count": 132,
   "metadata": {},
   "outputs": [
    {
     "data": {
      "text/plain": [
       "True"
      ]
     },
     "execution_count": 132,
     "metadata": {},
     "output_type": "execute_result"
    }
   ],
   "source": [
    "import os\n",
    "import time\n",
    "import uuid\n",
    "from typing import List, Type, TypeVar, Literal, TypedDict, Optional, Annotated\n",
    "import annotated_types\n",
    "import json\n",
    "import logging\n",
    "\n",
    "import replicate\n",
    "import requests\n",
    "from dotenv import load_dotenv\n",
    "from elevenlabs.client import ElevenLabs\n",
    "from lumaai import LumaAI\n",
    "from openai import NOT_GIVEN, OpenAI\n",
    "from pydantic import BaseModel\n",
    "import boto3\n",
    "from dataclasses import dataclass, field\n",
    "\n",
    "load_dotenv()"
   ]
  },
  {
   "cell_type": "code",
   "execution_count": 127,
   "metadata": {},
   "outputs": [],
   "source": [
    "def get_temp_filename(extension: str) -> str:\n",
    "    return f\"./content/{uuid.uuid4()}.{extension}\"\n",
    "\n",
    "\n",
    "openai = OpenAI(\n",
    "    api_key=os.environ.get(\"OPENAI_API_KEY\"),\n",
    ")\n",
    "\n",
    "elevenlabs = ElevenLabs(\n",
    "    api_key=os.environ.get(\"ELEVENLABS_API_KEY\"),\n",
    ")\n",
    "\n",
    "luma = LumaAI(\n",
    "    auth_token=os.environ.get(\"LUMAAI_API_KEY\"),\n",
    ")\n",
    "\n",
    "logger = logging.getLogger(\"file_logger\")\n",
    "file_handler = logging.FileHandler(\"generate.log\")\n",
    "formatter = logging.Formatter(\"%(asctime)s - %(name)s - %(levelname)s - %(message)s\")\n",
    "file_handler.setFormatter(formatter)\n",
    "logger.addHandler(file_handler)\n",
    "logger.setLevel(logging.INFO)\n",
    "\n",
    "\n",
    "\n",
    "def generate_text(system_prompt: str, user_prompt: str, json_mode: bool = False) -> str:\n",
    "    logger.info(f\"Generating text with system prompt: {system_prompt} and user prompt: {user_prompt}\")\n",
    "    response = openai.chat.completions.create(\n",
    "        model=\"gpt-4o\",\n",
    "        messages=[\n",
    "            {\"role\": \"system\", \"content\": system_prompt},\n",
    "            {\"role\": \"user\", \"content\": user_prompt},\n",
    "        ],\n",
    "        response_format={\"type\": \"json_object\"} if json_mode else NOT_GIVEN,\n",
    "    )\n",
    "    if not response.choices[0].message.content:\n",
    "        raise Exception(\"No response from OpenAI\")\n",
    "    logger.info(f\"Response from OpenAI: {response.choices[0].message.content}\")\n",
    "    return response.choices[0].message.content\n",
    "\n",
    "\n",
    "T = TypeVar(\"T\", bound=BaseModel)\n",
    "\n",
    "\n",
    "def generate_json(system_prompt: str, user_prompt: str, model: Type[T]) -> T:\n",
    "    data = generate_text(system_prompt, user_prompt, json_mode=True)\n",
    "    return model.model_validate_json(data)\n",
    "\n",
    "def upload_to_r2(file_path: str) -> str:\n",
    "    session = boto3.session.Session()\n",
    "    endpoint_url = f\"https://{os.environ.get(\"R2_ACCOUNT_ID\")}.r2.cloudflarestorage.com\"\n",
    "\n",
    "    s3_client = session.client(\n",
    "        \"s3\",\n",
    "        region_name=\"auto\",\n",
    "        endpoint_url=endpoint_url,\n",
    "        aws_access_key_id=os.environ.get(\"R2_ACCESS_KEY_ID\"),\n",
    "        aws_secret_access_key=os.environ.get(\"R2_SECRET_ACCESS_KEY\"),\n",
    "    )\n",
    "\n",
    "    filename = os.path.basename(file_path)\n",
    "\n",
    "    s3_client.upload_file(file_path, \"test\", filename, ExtraArgs={\"ACL\": \"public-read\"})\n",
    "\n",
    "    return f\"https://pub-{os.environ.get('R2_BUCKET_PUB_ID')}.r2.dev/{filename}\"\n",
    "\n",
    "def generate_image(prompt: str, character_reference_url: str = None) -> str:\n",
    "    logger.info(f\"Generating image with prompt: {prompt} and character reference URL: {character_reference_url}\")\n",
    "\n",
    "    input = {\"prompt\": prompt, \"aspect_ratio\": \"16:9\"}\n",
    "\n",
    "    if character_reference_url:\n",
    "        input[\"character_reference_url\"] = character_reference_url\n",
    "\n",
    "    output = replicate.run(\n",
    "        \"luma/photon\",\n",
    "        input=input,\n",
    "    )\n",
    "\n",
    "    filename = get_temp_filename(\"jpg\")\n",
    "    with open(filename, \"wb\") as file:\n",
    "        file.write(output.read())\n",
    "\n",
    "    logger.info(f\"Generated image: {filename}\")\n",
    "\n",
    "    return filename\n",
    "\n",
    "\n",
    "def generate_video(prompt: str) -> str:\n",
    "    logger.info(f\"Generating video with prompt: {prompt}\")\n",
    "\n",
    "    generation = luma.generations.create(\n",
    "        prompt=prompt,\n",
    "    )\n",
    "\n",
    "    completed = False\n",
    "    while not completed:\n",
    "        if not generation.id:\n",
    "            raise RuntimeError(\"Generation ID is None\")\n",
    "        generation = luma.generations.get(id=generation.id)\n",
    "        if generation.state == \"completed\":\n",
    "            completed = True\n",
    "        elif generation.state == \"failed\":\n",
    "            raise RuntimeError(f\"Generation failed: {generation.failure_reason}\")\n",
    "        print(\"Generating video..\")\n",
    "        time.sleep(3)\n",
    "\n",
    "    if not generation.assets:\n",
    "        raise RuntimeError(\"Generation has no video\")\n",
    "\n",
    "    video_url = generation.assets.video\n",
    "\n",
    "    if not video_url:\n",
    "        raise RuntimeError(\"Generation has no video URL\")\n",
    "\n",
    "    filename = get_temp_filename(\"mp4\")\n",
    "    response = requests.get(video_url, stream=True)\n",
    "    with open(filename, \"wb\") as file:\n",
    "        file.write(response.content)\n",
    "\n",
    "    logger.info(f\"Generated video: {filename}\")\n",
    "\n",
    "    return filename\n",
    "\n",
    "\n",
    "def generate_audio(text: str, voice: str = \"Brian\") -> str:\n",
    "    logger.info(f\"Generating audio with text: {text} and voice: {voice}\")\n",
    "\n",
    "    audio = elevenlabs.generate(\n",
    "        text=text,\n",
    "        voice=voice,\n",
    "        model=\"eleven_multilingual_v2\",\n",
    "    )\n",
    "    filename = get_temp_filename(\"mp3\")\n",
    "    with open(filename, \"wb\") as file:\n",
    "        for chunk in audio:\n",
    "            file.write(chunk)\n",
    "\n",
    "    logger.info(f\"Generated audio: {filename}\")\n",
    "    \n",
    "    return filename\n"
   ]
  },
  {
   "cell_type": "code",
   "execution_count": 4,
   "metadata": {},
   "outputs": [],
   "source": [
    "language = \"German\""
   ]
  },
  {
   "cell_type": "code",
   "execution_count": 8,
   "metadata": {},
   "outputs": [
    {
     "name": "stdout",
     "output_type": "stream",
     "text": [
      "Ein junger Mann namens Lukas zieht in eine alte, nahezu verlassene Kleinstadt im Schwarzwald, um dem hektischen Stadtleben zu entfliehen. Eines Nachts bemerkt er ungewöhnliche Aktivitäten in einem alten, baufälligen Hotel am Rande der Stadt. Neugierig geworden, beginnt er, nachts das Hotel heimlich zu erkunden und hört dabei immer wieder eine melancholische Melodie, die aus einem alten Klavier zu kommen scheint.\n",
      "\n",
      "Er erfährt, dass das Hotel seit Jahrzehnten unbewohnt ist, nachdem eine berühmte Pianistin dort unter mysteriösen Umständen verschwand. Fasziniert von der Geschichte, kehrt Lukas jeden Abend zurück, versucht die Quelle der Melodie zu finden und wird das Gefühl nicht los, dass die Pianistin ihm irgendwie nahe ist. Seine Suche nach der Wahrheit wird zur Obsession, bis er eines Nachts ein vergilbtes Foto hinter dem Klavier entdeckt – das Foto zeigt die verschwundene Pianistin … und Lukas selbst, in der Kleidung und dem Stil von vor hundert Jahren.\n",
      "\n",
      "Der Twist: Lukas ist die Reinkarnation der vermissten Pianistin, und die Melodie ist ein Hilferuf aus seiner eigenen vergessenen Vergangenheit. Die Geister des Hotels haben darauf gewartet, dass er zurückkehrt, um das Rätsel seiner damaligen Ermordung aufzulösen und den Fluch aufzulösen, der das Hotel heimsucht.\n"
     ]
    }
   ],
   "source": [
    "idea = generate_text(\n",
    "    system_prompt=\"If you are a screenwriter for the TV show Beyond All Belief, or in German X-Faktor das Unfassbare, generate an idea for a short story for that particular TV show. Don't write acts, scenes or anything else. Just a quick idea. Include a twist.\",\n",
    "    user_prompt=f\"Return the idea as short text in {language}. The story should take place in {language}.\",\n",
    ")\n",
    "\n",
    "print(idea)"
   ]
  },
  {
   "cell_type": "code",
   "execution_count": 48,
   "metadata": {},
   "outputs": [
    {
     "name": "stdout",
     "output_type": "stream",
     "text": [
      "[Character(id='lukas', name='Lukas', description='Ein junger Mann, der dem hektischen Stadtleben entflieht und in eine fast verlassene Kleinstadt im Schwarzwald zieht.', appearance='Deutscher Mann, Anfang 30, mit kurzem braunem Haar und blauen Augen. Ethnie: europäisch. Trägt oft lässige Kleidung, die für Wanderungen im Schwarzwald geeignet ist.', voice='Will'), Character(id='clara', name='Clara', description='Die verschwundene Pianistin, deren Geist noch immer im alten Hotel verweilt.', appearance='Deutsche Frau, um die 25 Jahre alt, mit mittellangem gewelltem blonden Haar und grünen Augen. Ethnie: europäisch. Gekleidet in elegante, antike Abendkleidung aus dem frühen 20. Jahrhundert.', voice='Charlotte'), Character(id='johann', name='Johann', description='Ein älterer Bewohner der Stadt, der Lukas von der geheimnisvollen Geschichte des Hotels erzählt.', appearance='Deutscher Mann, Mitte 70, mit weißem Haar und braunen Augen. Ethnie: europäisch. Trägt eine alte, abgetragene Jacke und oft einen Hut.', voice='Bill'), Character(id='hans', name='Hans', description='Der Hausmeister des alten Hotels, der sich um das verlassene Gebäude kümmert.', appearance='Deutscher Mann, 50 Jahre alt, mit graumeliertem Haar und einem buschigen Bart. Ethnie: europäisch. Zieht robuste Arbeitskleidung an, die für harte Arbeit geeignet ist.', voice='Eric')]\n"
     ]
    }
   ],
   "source": [
    "class Character(BaseModel):\n",
    "    id: str\n",
    "    name: str\n",
    "    description: str\n",
    "    appearance: str\n",
    "    voice: Literal[\"Aria\", \"Roger\", \"Sarah\", \"Laura\", \"Charlie\", \"George\", \"Callum\", \"River\", \"Liam\", \"Charlotte\", \"Alice\", \"Matilda\", \"Will\", \"Jessica\", \"Eric\", \"Chris\", \"Brian\", \"Daniel\", \"Lily\", \"Bill\"]\n",
    "\n",
    "class Characters(BaseModel):\n",
    "    characters: List[Character]\n",
    "\n",
    "\n",
    "characters = generate_json(\n",
    "    system_prompt=f\"\"\"Generate the characters for a short story.\n",
    "Return the characters as a JSON:\n",
    "{{\n",
    "    \"characters\": [\n",
    "        {{\n",
    "            \"id\": a unique identifier for the character as a string, e.g the name in lower case (must be unique)\n",
    "            \"name\": the name of the character\n",
    "            \"description\": a short description of the character\n",
    "            \"appearance\": a short description of the character's appearance in style of prompt for an image generator in English, add country of origin, age, gender, hair color, eye color, ethnicity, clothing, etc.,\n",
    "            \"voice\": chose of voice for the character, you find a list below.\n",
    "        }}\n",
    "    ]\n",
    "}}\n",
    "in {language}.\n",
    "Here the list of voices: (they can all speak in {language}):\n",
    "1.\tAria: Expressive and middle-aged American female voice, ideal for social media content.\n",
    "2.\tRoger: Confident middle-aged American male voice, suited for social media applications.\n",
    "3.\tSarah: Soft, young American female voice, perfect for news delivery.\n",
    "4.\tLaura: Upbeat young American female voice, commonly used in social media settings.\n",
    "5.\tCharlie: Natural middle-aged Australian male voice, excellent for conversational purposes.\n",
    "6.\tGeorge: Warm middle-aged British male voice, great for narration.\n",
    "7.\tCallum: Intense middle-aged Transatlantic male voice, tailored for character-based uses.\n",
    "8.\tRiver: Confident middle-aged American non-binary voice, designed for social media.\n",
    "9.\tLiam: Articulate young American male voice, often used for narration.\n",
    "10.\tCharlotte: Seductive young Swedish female voice, crafted for character work.\n",
    "11.\tAlice: Confident middle-aged British female voice, suitable for news contexts.\n",
    "12.\tMatilda: Friendly middle-aged American female voice, fitting for narration.\n",
    "13.\tWill: Friendly young American male voice, focused on social media.\n",
    "14.\tJessica: Expressive young American female voice, ideal for conversational projects.\n",
    "15.\tEric: Friendly middle-aged American male voice, used for conversational settings.\n",
    "16.\tChris: Casual middle-aged American male voice, great for conversational uses.\n",
    "17.\tBrian: Deep middle-aged American male voice, primarily used for narration.\n",
    "18.\tDaniel: Authoritative middle-aged British male voice, perfect for news delivery.\n",
    "19.\tLily: Warm middle-aged British female voice, crafted for narration.\n",
    "20.\tBill: Trustworthy older American male voice, tailored for narration.\"\"\",\n",
    "    user_prompt=f\"The story should take place in {language}. Use common names in that language and region. The story is about a {idea}.\",\n",
    "    model=Characters,\n",
    ").characters\n",
    "\n",
    "print(characters)"
   ]
  },
  {
   "cell_type": "code",
   "execution_count": 92,
   "metadata": {},
   "outputs": [
    {
     "name": "stderr",
     "output_type": "stream",
     "text": [
      "  0%|          | 0/4 [00:00<?, ?it/s]"
     ]
    },
    {
     "name": "stdout",
     "output_type": "stream",
     "text": [
      "Deutscher Mann, Anfang 30, mit kurzem braunem Haar und blauen Augen. Ethnie: europäisch. Trägt oft lässige Kleidung, die für Wanderungen im Schwarzwald geeignet ist.\n"
     ]
    },
    {
     "name": "stderr",
     "output_type": "stream",
     "text": [
      " 25%|██▌       | 1/4 [00:08<00:24,  8.17s/it]"
     ]
    },
    {
     "name": "stdout",
     "output_type": "stream",
     "text": [
      "Deutsche Frau, um die 25 Jahre alt, mit mittellangem gewelltem blonden Haar und grünen Augen. Ethnie: europäisch. Gekleidet in elegante, antike Abendkleidung aus dem frühen 20. Jahrhundert.\n"
     ]
    },
    {
     "name": "stderr",
     "output_type": "stream",
     "text": [
      " 50%|█████     | 2/4 [00:15<00:15,  7.70s/it]"
     ]
    },
    {
     "name": "stdout",
     "output_type": "stream",
     "text": [
      "Deutscher Mann, Mitte 70, mit weißem Haar und braunen Augen. Ethnie: europäisch. Trägt eine alte, abgetragene Jacke und oft einen Hut.\n"
     ]
    },
    {
     "name": "stderr",
     "output_type": "stream",
     "text": [
      " 75%|███████▌  | 3/4 [00:23<00:07,  7.60s/it]"
     ]
    },
    {
     "name": "stdout",
     "output_type": "stream",
     "text": [
      "Deutscher Mann, 50 Jahre alt, mit graumeliertem Haar und einem buschigen Bart. Ethnie: europäisch. Zieht robuste Arbeitskleidung an, die für harte Arbeit geeignet ist.\n"
     ]
    },
    {
     "name": "stderr",
     "output_type": "stream",
     "text": [
      "100%|██████████| 4/4 [00:31<00:00,  7.96s/it]"
     ]
    },
    {
     "name": "stdout",
     "output_type": "stream",
     "text": [
      "{'lukas': {'filename': './content/f50eb527-f8a8-4ebc-bdbd-53df2acac234.jpg', 'url': 'https://pub-7fdd542f3dda44bcaef4c36bf4bb48e1.r2.dev/f50eb527-f8a8-4ebc-bdbd-53df2acac234.jpg'}, 'clara': {'filename': './content/8d56ee36-673b-41db-9e8e-f046dcf1314d.jpg', 'url': 'https://pub-7fdd542f3dda44bcaef4c36bf4bb48e1.r2.dev/8d56ee36-673b-41db-9e8e-f046dcf1314d.jpg'}, 'johann': {'filename': './content/e29c0f7a-dcaa-4ed1-b7dc-dc97e82de730.jpg', 'url': 'https://pub-7fdd542f3dda44bcaef4c36bf4bb48e1.r2.dev/e29c0f7a-dcaa-4ed1-b7dc-dc97e82de730.jpg'}, 'hans': {'filename': './content/bdcb3ab6-d9f4-4fcb-98c2-35c2b7ad82bc.jpg', 'url': 'https://pub-7fdd542f3dda44bcaef4c36bf4bb48e1.r2.dev/bdcb3ab6-d9f4-4fcb-98c2-35c2b7ad82bc.jpg'}}\n"
     ]
    },
    {
     "name": "stderr",
     "output_type": "stream",
     "text": [
      "\n"
     ]
    }
   ],
   "source": [
    "class FileMapping(TypedDict):\n",
    "    filename: str\n",
    "    url: str\n",
    "\n",
    "character_images: dict[str, FileMapping] = {}\n",
    "for n, character in enumerate(characters):\n",
    "    print(f\"Generating character image for {character.name} ({n + 1} of {len(characters)})\")\n",
    "    file_path = generate_image(f\"A neutral portrait of {character.appearance}\")\n",
    "    character_images[character.id] = FileMapping(\n",
    "        filename=file_path,\n",
    "        url=upload_to_r2(file_path),\n",
    "    )\n",
    "\n",
    "print(character_images)"
   ]
  },
  {
   "cell_type": "code",
   "execution_count": 50,
   "metadata": {},
   "outputs": [
    {
     "name": "stdout",
     "output_type": "stream",
     "text": [
      "Act 1:\n",
      "Act 1: Lukas zieht in die idyllische, doch nahezu verlassene Kleinstadt im Schwarzwald ein, um dem dröhnenden Stadtleben zu entfliehen. Bei einem Spaziergang in der Dämmerung bemerkt er das alte, baufällige Hotel am Rande der Stadt, von dem ein geheimnisvolles Flair ausgeht. In den Abendstunden, als die Lichter der Stadt zurückweichen, sieht er ein schwaches Flackern aus einem der zerschmetterten Fenster und hört die melancholische Melodie eines Klaviers. Neugierig und von der melancholischen Melodie angezogen, beschließt Lukas, das Geheimnis weiter zu erkunden. Der Vorhang fällt, als er zögert und darüber nachdenkt, wie er das Gebäude unbemerkt betreten kann.\n",
      "Act 2:\n",
      "Act 2: Lukas nimmt Kontakt zu Johann auf, einem älteren Stadtbewohner, der die Geschichte des verwunschenen Hotels kennt. Johann erzählt ihm von der berühmten Pianistin Clara, die vor Jahrzehnten unter mysteriösen Umständen verschwunden ist. Der junge Mann ist fasziniert und beschließt, das Hotel bei Nacht heimlich zu betreten. Während er durch die staubigen Corridors schleicht, ertönt erneut die tieftraurige Melodie aus der Ferne. Die Spannung steigt, als Lukas sich dem alten Salon nähert, in dem das Klavier steht. Er entdeckt ein vergilbtes Foto hinter dem Instrument, das die Pianistin Clara zeigt. Neben ihr auf dem Bild steht ein Mann, der Lukas selbst zu sein scheint, in Kleidung von vor hundert Jahren. Der Akt endet mit Lukas' erschrockenem Gesichtsausdruck, als er realisiert, dass er in irgendeiner Weise mit der Vergangenheit des Hotels verbunden ist.\n",
      "Act 3:\n",
      "Act 3: Getrieben von der seltsamen Entdeckung, sucht Lukas den Hausmeister Hans auf, der sich um das verlassene Gebäude kümmert. Hans erzählt Lukas von den Geistern, die angeblich das Hotel heimsuchen und dass sie auf jemanden warten, der ein uraltes Rätsel löst. Lukas kehrt eines Nachts zurück zum Hotel, mit neuen Erkenntnissen zu seiner wahren Identität. Im Salon, vor dem alten Klavier, begegnet er dem Geist der Pianistin Clara. Sie enthüllt ihm, dass er die Reinkarnation ihrer selbst ist und dass die Melodie ein Hilferuf aus ihrer Vergangenheit war. Gemeinsam lösen Lukas und Clara das Rätsel von Claras Tod und befreien damit die Geister, die das Hotel bewohnen. Der Fluch wird gelöst und das Hotel beginnt, sich zu erhellen. Der Akt endet, als Lukas vor dem Hotel steht und in die Morgendämmerung blickt, inneren Frieden gefunden hat und bereit ist, sein neues Leben in der kleinen Stadt zu erleben.\n"
     ]
    }
   ],
   "source": [
    "class Act(BaseModel):\n",
    "    description: str\n",
    "\n",
    "\n",
    "class Acts(BaseModel):\n",
    "    acts: List[Act]\n",
    "\n",
    "acts = generate_json(\n",
    "    system_prompt=f\"\"\"Generate the acts for a short story. Make it a 3 act play. Return the acts as a JSON:\n",
    "{{\n",
    "    \"acts\": [\n",
    "        {{\n",
    "            \"description\": a short description of the act, the act need to be short around 2-3 minutes of screen time. Describe exactly what in the scene happens and how the scene ends. Don't describe the characters.\n",
    "        }}\n",
    "    ]\n",
    "}}\n",
    "in {language}.\"\"\",\n",
    "    user_prompt=f\"The story should take place in {language}. Use common names in that language and region. The story is about a {idea}. The only characters are {', '.join(str(obj) for obj in characters)}.\",\n",
    "    model=Acts,\n",
    ").acts\n",
    "\n",
    "for n, act in enumerate(acts):\n",
    "    print(f\"Act {n + 1}:\")\n",
    "    print(act.description)\n"
   ]
  },
  {
   "cell_type": "code",
   "execution_count": 133,
   "metadata": {},
   "outputs": [
    {
     "name": "stderr",
     "output_type": "stream",
     "text": [
      "100%|██████████| 3/3 [00:14<00:00,  4.98s/it]"
     ]
    },
    {
     "name": "stdout",
     "output_type": "stream",
     "text": [
      "Act 1, Scene 1:\n",
      "narration\n",
      "Die Sonne senkt sich hinter den dichten, uralten Bäumen des Schwarzwalds, als Lukas sein neues Zuhause erreicht – eine beschauliche Kleinstadt, die den Charme vergangener Tage ausstrahlt. Der Reisekoffer in der einen Hand und ein Entschlossenheitsbekundung im Gesicht, wird ihm bewusst, wie winzig und ruhig es hier ist im Gegensatz zu seinem früheren hektischen Leben in der Stadt. Ein leichter Nebel fängt an aufzusteigen und umgibt die Fachwerkhäuser, die sich malerisch aneinanderreihen. Lukas genießt die frische, klare Luft und lässt sich von der erholsamen Stille tragen. Diese Stille weckt in ihm eine neue Hoffnung auf Frieden und Ruhe.\n",
      "['lukas']\n",
      "Act 1, Scene 2:\n",
      "dialogue\n",
      "Lukas trifft Johann in der kleinen Bäckerei der Stadt. Während sehr Alter und Erfahrung in Johanns Augen zu sehen sind, ist allein der freundliche Bäcker bereit, Neuigkeiten und Geschichten zu erzählen. Beim Kauf von Brot kommt das Gespräch auf das alte, baufällige Hotel am Stadtrand. Johann erzählt mit gesenkter Stimme von der Legende über die verschwundene Pianistin und die rätselhaften Ereignisse, die das Hotel seit Jahren heimsuchen. Neugierde ergreift Besitz von Lukas, der von der Geschichte fasziniert ist. Mit einem ehrlichen Lächeln verspricht Johann, mehr davon zu erzählen, sobald sie die Baguette verkauft haben.\n",
      "['lukas', 'johann']\n",
      "Act 1, Scene 3:\n",
      "narration\n",
      "In der Dämmerung spaziert Lukas die verlassenen Straßen der Kleinstadt entlang, bis er schließlich das alte Hotel erreicht, das in der bergigen Landschaft eine ehrfurchtgebietende Silhouette abgibt. Es hat einen unwiderstehlichen Charme, obwohl die Fenster zerbrochen sind und der Putz abblättert. Plötzlich flackert ein schwaches Licht in einem der Fenster auf und der beruhigende, aber melancholische Ton eines Klaviers wiegt durch die kühle Nachtluft. Lukas hält inne und lauscht, um den Ursprung der Melodie herauszufinden. Sie zieht ihn fast magisch an und er beschließt, einen Weg zu suchen, das Hotel unerkannt zu betreten, den Ursprung der Melodie im Kopf.\n",
      "['lukas']\n",
      "Act 2, Scene 1:\n",
      "dialogue\n",
      "Lukas sitzt mit Johann in einem kleinen, gemütlichen Café am Rande der Stadt. Das Café ist nur spärlich besucht, und sie haben sich in eine ruhige Ecke zurückgezogen. Johann erzählt Lukas von der geheimnisvollen Geschichte des alten Hotels und der berühmten Pianistin Clara, die vor Jahrzehnten plötzlich verschwand. Lukas ist fasziniert und stellt viele Fragen, während Johann Geschichten und Gerüchte über das Hotel und die mysteriösen Ereignisse teilt. Lukas beschließt, das Hotel bei Nacht zu erkunden, entschlossen, mehr über Claras Schicksal zu erfahren.\n",
      "['lukas', 'johann']\n",
      "Act 2, Scene 2:\n",
      "narration\n",
      "Lukas schleicht sich in der Dunkelheit an das alte Hotel heran. Der Mond wirft einen silbrigen Schimmer über das verlassene Gebäude. Die Eingangstür des Hotels knarrt leise, als er sie vorsichtig öffnet und eintritt. Staub wirbelt auf, und ein modriger Geruch liegt in der Luft. Lukas zieht seine Taschenlampe heraus und beginnt, die dunklen Hallen und verlassenen Zimmer zu durchstreifen, während die Schatten der Vergangenheit ihn umgeben. Die Atmosphäre ist gespenstisch, und in der Ferne erklingt plötzlich die melancholische Melodie eines Klaviers, die durch die verlassenen Korridore hallt.\n",
      "['lukas']\n",
      "Act 2, Scene 3:\n",
      "narration\n",
      "In einem großen, verstaubten Salon entdeckt Lukas das alte Klavier, aus dem die Melodie zu kommen scheint. Er nähert sich vorsichtig, während die schwachen Töne ihn wie magisch anziehen. Auf dem vergilbten Notenständer liegt ein altes Foto. Lukas streift den Staub davon und erblickt das Bild einer jungen Frau in eleganter Abendkleidung - Clara. Neben ihr steht ein Mann, der Lukas in der Kleidung und dem Stil von vor hundert Jahren erstaunlich ähnlich sieht. Lukas erstarrt, seine Augen weiten sich vor Schock, als er realisiert, dass er in irgendeiner Weise mit der Vergangenheit des Hotels und der verschwundenen Pianistin verbunden ist. Die Szene endet mit seinem erschrockenen Gesichtsausdruck, der das Ausmaß seiner Erkenntnis einfängt.\n",
      "['lukas']\n",
      "Act 3, Scene 1:\n",
      "dialogue\n",
      "Lukas besucht Hans im alten, verfallenen Hotel. Sie stehen in einem staubigen Raum, das Licht fällt gedämpft durch zerbrochene Fenster. Hans spricht leise und eindringlich über die Geister, die das Hotel heimsuchen, und die Bedeutung des ungelösten Rätsels. Lukas' Neugier und Entschlossenheit sind spürbar, als der Abend sich in die Nacht verwandelt. Die Szene endet mit Lukas, der das Hotel mit einem nachdenklichen Gesichtsausdruck verlässt, fest entschlossen, die Wahrheit herauszufinden.\n",
      "['lukas', 'hans']\n",
      "Act 3, Scene 2:\n",
      "narration\n",
      "Lukas betritt erneut das Hotel, umgeben von der Dunkelheit der Nacht. Die Geräusche des Waldes dringen durch die vernachlässigt wirkenden Wände. Als er durch die verlassenen Gänge schleicht, wird die melancholische Melodie des Klaviers lauter. Sein Herz klopft schneller, als er den Salon erreicht, wo nur das schwache Mondlicht die Silhouette des alten Klaviers enthüllt. Die Spannung ist greifbar, bevor die Szene mit dem Klang der letzten Note in völliger Stille endet.\n",
      "['lukas']\n",
      "Act 3, Scene 3:\n",
      "dialogue\n",
      "Im schwach beleuchteten Salon erscheint Claras Geist vor Lukas. Die Atmosphäre ist magisch und geheimnisvoll, als Clara die Wahrheit über ihre und Lukas' Verbindung enthüllt. Trotz seiner anfänglichen Verwirrung und Ungläubigkeit gewinnt Lukas an Klarheit, als sie gemeinsam das Rätsel um Claras Tod entschlüsseln. Ihre Stimmen harmonieren, während sie den letzten Teil der Melodie spielen, bevor ein strahlendes Licht aus dem Hotel zu leuchten beginnt. Die Geister verschwinden und der Fluch wird gebrochen. Die Szene schließt mit einem befreienden Gefühl, als Lukas das Hotel verlässt und mit einem Lächeln in die Morgendämmerung tritt.\n",
      "['lukas', 'clara']\n"
     ]
    },
    {
     "name": "stderr",
     "output_type": "stream",
     "text": [
      "\n"
     ]
    }
   ],
   "source": [
    "class Scene(BaseModel):\n",
    "    type: Literal[\"narration\", \"dialogue\"]\n",
    "    characters: Annotated[list[str], annotated_types.Len(min_length=1)]\n",
    "    description: str\n",
    "\n",
    "class Scenes(BaseModel):\n",
    "    scenes: List[Scene]\n",
    "\n",
    "act_scenes: List[List[Scene]] = []\n",
    "\n",
    "for act_n, act in enumerate(acts):\n",
    "    print(f\"Generating scenes for act {act_n + 1} of {len(acts)}\")\n",
    "    scenes = generate_json(\n",
    "        system_prompt=f\"\"\"Generate the scenes for a short story. Make it 3 scenes. Make it a mix of narration and dialogue. Use narrations sparingly. Return the scenes as a JSON:\n",
    "{{\n",
    "    \"scenes\": [\n",
    "        {{\n",
    "            \"type\": \"narration\" or \"dialogue\". A narration is kind of a scenic view or an establishing shot with a video in the background and an off-text. A dialogue is a dialogue between two or more people.,\n",
    "            \"characters\": a list of the character IDs that are in the scene. If it is a narration, there must be exactly one character. If its a dialogue, it needs to be a least two characters.,\n",
    "            \"description\": a short description of the scene. It should have around 1 minute of screen time. Describe exactly what in the scene happens and how the scene ends. Don't describe the characters. Don't write dialogue or off-text. The scene can not include any characters.\n",
    "        }}\n",
    "    ]\n",
    "}}\n",
    "    in {language}.\"\"\",\n",
    "        user_prompt=f\"The story should take place in {language}. Use common names in that language and region. The story is about a {idea}. The only characters are {', '.join(str(obj) for obj in characters)}. The act you should generate the scenes for is {act.description}.\",\n",
    "        model=Scenes,\n",
    "    ).scenes\n",
    "    act_scenes.append(scenes)\n",
    "\n",
    "for n, act in enumerate(act_scenes):\n",
    "    for m, scene in enumerate(act):\n",
    "        print(f\"Act {n + 1}, Scene {m + 1}:\")\n",
    "        print(scene.type)\n",
    "        print(scene.description)\n",
    "        print(scene.characters)\n"
   ]
  },
  {
   "cell_type": "code",
   "execution_count": 121,
   "metadata": {},
   "outputs": [
    {
     "name": "stdout",
     "output_type": "stream",
     "text": [
      "Das Geheimnis der Melodie\n"
     ]
    }
   ],
   "source": [
    "episode_title = generate_text(\n",
    "    system_prompt=f\"Generate a title for a short story of the series Beyond Belief or X-Faktor das Unfassbare. Return the title in {language}. It must be short. Return it without any quotes.\",\n",
    "    user_prompt=f\"The story is about a {idea}.\",\n",
    ")\n",
    "\n",
    "print(episode_title)"
   ]
  },
  {
   "cell_type": "code",
   "execution_count": 136,
   "metadata": {},
   "outputs": [
    {
     "name": "stdout",
     "output_type": "stream",
     "text": [
      "Generating narration for scene 1, act 1\n",
      "Generating video..\n",
      "Generating video..\n",
      "Generating video..\n",
      "Generating video..\n",
      "Generating video..\n",
      "Generating video..\n",
      "Generating video..\n",
      "Generating video..\n",
      "Generating video..\n",
      "Generating video..\n",
      "Generating video..\n",
      "Generating video..\n",
      "Generating video..\n",
      "Generating audio ..\n",
      "Generating dialogue for scene 2, act 1\n"
     ]
    },
    {
     "name": "stderr",
     "output_type": "stream",
     "text": [
      "Generating character images..: 100%|██████████| 2/2 [00:25<00:00, 12.70s/it]\n",
      "Generating dialogue..: 100%|██████████| 8/8 [00:23<00:00,  2.93s/it]\n"
     ]
    },
    {
     "name": "stdout",
     "output_type": "stream",
     "text": [
      "Generating narration for scene 3, act 1\n",
      "Generating video..\n",
      "Generating video..\n",
      "Generating video..\n",
      "Generating video..\n",
      "Generating video..\n",
      "Generating video..\n",
      "Generating video..\n",
      "Generating video..\n",
      "Generating video..\n",
      "Generating video..\n",
      "Generating video..\n",
      "Generating video..\n",
      "Generating video..\n",
      "Generating video..\n",
      "Generating audio ..\n",
      "Generating dialogue for scene 1, act 2\n"
     ]
    },
    {
     "name": "stderr",
     "output_type": "stream",
     "text": [
      "Generating character images..: 100%|██████████| 2/2 [00:30<00:00, 15.00s/it]\n",
      "Generating dialogue..: 100%|██████████| 8/8 [00:17<00:00,  2.18s/it]\n"
     ]
    },
    {
     "name": "stdout",
     "output_type": "stream",
     "text": [
      "Generating narration for scene 2, act 2\n",
      "Generating video..\n",
      "Generating video..\n",
      "Generating video..\n",
      "Generating video..\n",
      "Generating video..\n",
      "Generating video..\n",
      "Generating video..\n",
      "Generating video..\n",
      "Generating video..\n",
      "Generating video..\n",
      "Generating video..\n",
      "Generating video..\n",
      "Generating video..\n",
      "Generating audio ..\n",
      "Generating narration for scene 3, act 2\n",
      "Generating video..\n",
      "Generating video..\n",
      "Generating video..\n",
      "Generating video..\n",
      "Generating video..\n",
      "Generating video..\n",
      "Generating video..\n",
      "Generating video..\n",
      "Generating video..\n",
      "Generating video..\n",
      "Generating video..\n",
      "Generating video..\n",
      "Generating video..\n",
      "Generating audio ..\n",
      "Generating dialogue for scene 1, act 3\n"
     ]
    },
    {
     "name": "stderr",
     "output_type": "stream",
     "text": [
      "Generating character images..: 100%|██████████| 2/2 [00:25<00:00, 12.82s/it]\n",
      "Generating dialogue..: 100%|██████████| 9/9 [00:18<00:00,  2.08s/it]\n"
     ]
    },
    {
     "name": "stdout",
     "output_type": "stream",
     "text": [
      "Generating narration for scene 2, act 3\n",
      "Generating video..\n",
      "Generating video..\n",
      "Generating video..\n",
      "Generating video..\n",
      "Generating video..\n",
      "Generating video..\n",
      "Generating video..\n",
      "Generating video..\n",
      "Generating video..\n",
      "Generating video..\n",
      "Generating video..\n",
      "Generating video..\n",
      "Generating video..\n",
      "Generating video..\n",
      "Generating audio ..\n",
      "Generating dialogue for scene 3, act 3\n"
     ]
    },
    {
     "name": "stderr",
     "output_type": "stream",
     "text": [
      "Generating character images..: 100%|██████████| 2/2 [00:25<00:00, 12.93s/it]\n",
      "Generating dialogue..: 100%|██████████| 14/14 [00:28<00:00,  2.04s/it]\n"
     ]
    }
   ],
   "source": [
    "@dataclass\n",
    "class Audio:\n",
    "    filename: str\n",
    "\n",
    "\n",
    "@dataclass\n",
    "class Content:\n",
    "    filename: str\n",
    "    audio: Optional[Audio] = None\n",
    "\n",
    "\n",
    "@dataclass\n",
    "class Scene:\n",
    "    type: str  # \"video\" or \"image\"\n",
    "    content: Content\n",
    "\n",
    "\n",
    "@dataclass\n",
    "class Appearance:\n",
    "    start: float  # seconds\n",
    "    end: float  # seconds\n",
    "\n",
    "\n",
    "@dataclass\n",
    "class TextOverlay:\n",
    "    text: str\n",
    "    appearance: Appearance\n",
    "\n",
    "\n",
    "@dataclass\n",
    "class SoundEffect:\n",
    "    filename: str\n",
    "    start: float  # seconds\n",
    "\n",
    "\n",
    "@dataclass\n",
    "class Episode:\n",
    "    backgroundMusic: Audio\n",
    "    scenes: List[Scene]\n",
    "    textOverlays: List[TextOverlay] = field(default_factory=list)\n",
    "    soundEffects: List[SoundEffect] = field(default_factory=list)\n",
    "\n",
    "    def to_json(self) -> str:\n",
    "        return json.dumps(self, default=lambda o: o.__dict__, indent=4)\n",
    "\n",
    "class NarrationResult(BaseModel):\n",
    "    video_description: str\n",
    "    monologue: str\n",
    "\n",
    "class DialogueLine(BaseModel):\n",
    "    character: str\n",
    "    text: str\n",
    "\n",
    "class DialogueResult(BaseModel):\n",
    "    scene_background_description: str\n",
    "    lines: List[DialogueLine]\n",
    "\n",
    "episode = Episode(\n",
    "    backgroundMusic=Audio(filename=\"background.mp3\"),\n",
    "    scenes=[],\n",
    "    textOverlays=[TextOverlay(text=episode_title, appearance=Appearance(start=3, end=8))],\n",
    ")\n",
    "\n",
    "for act_n, act in enumerate(act_scenes):\n",
    "    for scene_n, scene in enumerate(act):\n",
    "        if scene.type == \"narration\":\n",
    "            print(f\"Generating narration for scene {scene_n + 1}, act {act_n + 1}\")\n",
    "            narration_result = generate_json(\n",
    "                system_prompt=f\"\"\"Generate a narration for a short story. Return the narration as a JSON:\n",
    "{{\n",
    "    \"video_description\": a prompt for a video generator describing the scene. Must be in English,\n",
    "    \"monologue\": a short monologue of the narrator. It should be short 10-20 seconds. It's narrated by the character,\n",
    "}}\n",
    "in {language}.\"\"\",\n",
    "                user_prompt=f\"The story should take place in {language}. The story is about a {idea}. The only characters are {', '.join(str(obj) for obj in characters)}. The act you is act number {act_n + 1} of {len(act_scenes)}, {acts[act_n].description}. The scene you are generating the narration for is scene number {scene_n + 1} of {len(act)}, {scene.description}.\",\n",
    "                model=NarrationResult,\n",
    "            )\n",
    "            video = generate_video(f\"A hyper-realistic video of {narration_result.video_description}\")\n",
    "            # video = \"content/7a761974-14ae-468e-bbc4-9996e762fe2e.mp4\"  \n",
    "            print(\"Generating audio ..\")\n",
    "            audio = generate_audio(\n",
    "                narration_result.monologue,\n",
    "                next((item for item in characters if item.id == scene.characters[0]), None).voice,\n",
    "            )\n",
    "            episode.scenes.append(Scene(type=\"video\", content=Content(filename=video, audio=Audio(filename=audio))))\n",
    "        elif scene.type == \"dialogue\":\n",
    "            print(f\"Generating dialogue for scene {scene_n + 1}, act {act_n + 1}\")\n",
    "            dialogue_result = generate_json(\n",
    "                system_prompt=f\"\"\"Generate a dialogue for a short story. Return the dialogue as a JSON:\n",
    "{{\n",
    "    \"scene_background_description\": a short description of the scene for a video generator in English. That with \"The character ..\",\n",
    "    \"lines\": {{\n",
    "        \"character\": the character ID,\n",
    "        \"text\": the text of the dialogue line,\n",
    "    }}\n",
    "}}\n",
    "in {language}.\"\"\",\n",
    "                user_prompt=f\"The story should take place in {language}. The story is about a {idea}. The only characters are {', '.join(str(obj) for obj in characters)}. The act you is act number {act_n + 1} of {len(act_scenes)}, {acts[act_n].description}. The scene you are generating the dialogue for is scene number {scene_n + 1} of {len(act)}, {scene.description}.\",\n",
    "                model=DialogueResult,\n",
    "            )\n",
    "            character_images_for_scene = {}\n",
    "            for n, character in enumerate(scene.characters):\n",
    "                print(f\"Generating character image for {character} ({n + 1} of {len(scene.characters)})\")\n",
    "                character_images_for_scene[character] = generate_image(dialogue_result.scene_background_description, character_images[character][\"url\"])\n",
    "                # character_images_for_scene[character] = (\n",
    "                #     \"content/00af9220-1b61-4b7b-a6c8-504e5d744741.jpg\"\n",
    "                # )\n",
    "            for n, line in enumerate(dialogue_result.lines):\n",
    "                print(f\"Generating audio for {line.character} ({n + 1} of {len(dialogue_result.lines)})\")\n",
    "                audio = generate_audio(\n",
    "                    line.text,\n",
    "                    next((item for item in characters if item.id == line.character), None).voice,\n",
    "                )\n",
    "                # audio = \"content/0e901ae0-f622-40f5-aeb0-e2b5a05c821a.mp3\"\n",
    "                episode.scenes.append(\n",
    "                    Scene(\n",
    "                        type=\"image\",\n",
    "                        content=Content(\n",
    "                            filename=character_images_for_scene[line.character],\n",
    "                            audio=Audio(filename=audio),\n",
    "                        ),\n",
    "                    )\n",
    "                )\n",
    "        \n",
    "with open(\"episode.json\", \"w\") as file:\n",
    "    file.write(episode.to_json())\n"
   ]
  }
 ],
 "metadata": {
  "kernelspec": {
   "display_name": "x-faktor-PDTE6C-r-py3.13",
   "language": "python",
   "name": "python3"
  },
  "language_info": {
   "codemirror_mode": {
    "name": "ipython",
    "version": 3
   },
   "file_extension": ".py",
   "mimetype": "text/x-python",
   "name": "python",
   "nbconvert_exporter": "python",
   "pygments_lexer": "ipython3",
   "version": "3.13.0"
  }
 },
 "nbformat": 4,
 "nbformat_minor": 2
}
