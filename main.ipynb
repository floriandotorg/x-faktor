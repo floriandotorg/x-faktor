{
 "cells": [
  {
   "cell_type": "code",
   "execution_count": 80,
   "metadata": {},
   "outputs": [
    {
     "data": {
      "text/plain": [
       "True"
      ]
     },
     "execution_count": 80,
     "metadata": {},
     "output_type": "execute_result"
    }
   ],
   "source": [
    "import os\n",
    "import time\n",
    "import uuid\n",
    "from typing import List, Type, TypeVar, Literal, TypedDict\n",
    "\n",
    "import replicate\n",
    "import requests\n",
    "from dotenv import load_dotenv\n",
    "from elevenlabs.client import ElevenLabs\n",
    "from lumaai import LumaAI\n",
    "from openai import NOT_GIVEN, OpenAI\n",
    "from pydantic import BaseModel\n",
    "from tqdm import tqdm\n",
    "import boto3\n",
    "\n",
    "load_dotenv()"
   ]
  },
  {
   "cell_type": "code",
   "execution_count": 82,
   "metadata": {},
   "outputs": [],
   "source": [
    "def get_temp_filename(extension: str) -> str:\n",
    "    return f\"./content/{uuid.uuid4()}.{extension}\"\n",
    "\n",
    "\n",
    "openai = OpenAI(\n",
    "    api_key=os.environ.get(\"OPENAI_API_KEY\"),\n",
    ")\n",
    "\n",
    "elevenlabs = ElevenLabs(\n",
    "    api_key=os.environ.get(\"ELEVENLABS_API_KEY\"),\n",
    ")\n",
    "\n",
    "luma = LumaAI(\n",
    "    auth_token=os.environ.get(\"LUMAAI_API_KEY\"),\n",
    ")\n",
    "\n",
    "\n",
    "def generate_text(system_prompt: str, user_prompt: str, json_mode: bool = False) -> str:\n",
    "    response = openai.chat.completions.create(\n",
    "        model=\"gpt-4o\",\n",
    "        messages=[\n",
    "            {\"role\": \"system\", \"content\": system_prompt},\n",
    "            {\"role\": \"user\", \"content\": user_prompt},\n",
    "        ],\n",
    "        response_format={\"type\": \"json_object\"} if json_mode else NOT_GIVEN,\n",
    "    )\n",
    "    if not response.choices[0].message.content:\n",
    "        raise Exception(\"No response from OpenAI\")\n",
    "    return response.choices[0].message.content\n",
    "\n",
    "\n",
    "T = TypeVar(\"T\", bound=BaseModel)\n",
    "\n",
    "\n",
    "def generate_json(system_prompt: str, user_prompt: str, model: Type[T]) -> T:\n",
    "    data = generate_text(system_prompt, user_prompt, json_mode=True)\n",
    "    return model.model_validate_json(data)\n",
    "\n",
    "def upload_to_r2(file_path: str) -> str:\n",
    "    session = boto3.session.Session()\n",
    "    endpoint_url = f\"https://{os.environ.get(\"R2_ACCOUNT_ID\")}.r2.cloudflarestorage.com\"\n",
    "\n",
    "    s3_client = session.client(\n",
    "        \"s3\",\n",
    "        region_name=\"auto\",\n",
    "        endpoint_url=endpoint_url,\n",
    "        aws_access_key_id=os.environ.get(\"R2_ACCESS_KEY_ID\"),\n",
    "        aws_secret_access_key=os.environ.get(\"R2_SECRET_ACCESS_KEY\"),\n",
    "    )\n",
    "\n",
    "    filename = os.path.basename(file_path)\n",
    "\n",
    "    s3_client.upload_file(file_path, \"test\", filename, ExtraArgs={\"ACL\": \"public-read\"})\n",
    "\n",
    "    return f\"https://pub-{os.environ.get('R2_BUCKET_PUB_ID')}.r2.dev/{filename}\"\n",
    "\n",
    "def generate_image(prompt: str, image_reference_url: str = None) -> str:\n",
    "    input = {\"prompt\": prompt}\n",
    "\n",
    "    if image_reference_url:\n",
    "        input[\"image_reference_url\"] = image_reference_url\n",
    "\n",
    "    output = replicate.run(\n",
    "        \"luma/photon\",\n",
    "        input=input,\n",
    "    )\n",
    "\n",
    "    filename = get_temp_filename(\"jpg\")\n",
    "    with open(filename, \"wb\") as file:\n",
    "        file.write(output.read())\n",
    "\n",
    "    return filename\n",
    "\n",
    "\n",
    "def generate_video(prompt: str) -> str:\n",
    "    generation = luma.generations.create(\n",
    "        prompt=prompt,\n",
    "    )\n",
    "\n",
    "    completed = False\n",
    "    while not completed:\n",
    "        if not generation.id:\n",
    "            raise RuntimeError(\"Generation ID is None\")\n",
    "        generation = luma.generations.get(id=generation.id)\n",
    "        if generation.state == \"completed\":\n",
    "            completed = True\n",
    "        elif generation.state == \"failed\":\n",
    "            raise RuntimeError(f\"Generation failed: {generation.failure_reason}\")\n",
    "        print(\"Generating video..\")\n",
    "        time.sleep(3)\n",
    "\n",
    "    if not generation.assets:\n",
    "        raise RuntimeError(\"Generation has no video\")\n",
    "\n",
    "    video_url = generation.assets.video\n",
    "\n",
    "    if not video_url:\n",
    "        raise RuntimeError(\"Generation has no video URL\")\n",
    "\n",
    "    filename = get_temp_filename(\"mp4\")\n",
    "    response = requests.get(video_url, stream=True)\n",
    "    with open(filename, \"wb\") as file:\n",
    "        file.write(response.content)\n",
    "\n",
    "    return filename\n",
    "\n",
    "\n",
    "def generate_audio(text: str, voice: str = \"Brian\") -> str:\n",
    "    audio = elevenlabs.generate(\n",
    "        text=text,\n",
    "        voice=voice,\n",
    "        model=\"eleven_multilingual_v2\",\n",
    "    )\n",
    "    filename = get_temp_filename(\"mp3\")\n",
    "    with open(filename, \"wb\") as file:\n",
    "        for chunk in audio:\n",
    "            file.write(chunk)\n",
    "    return filename\n"
   ]
  },
  {
   "cell_type": "code",
   "execution_count": 4,
   "metadata": {},
   "outputs": [],
   "source": [
    "language = \"German\""
   ]
  },
  {
   "cell_type": "code",
   "execution_count": 8,
   "metadata": {},
   "outputs": [
    {
     "name": "stdout",
     "output_type": "stream",
     "text": [
      "Ein junger Mann namens Lukas zieht in eine alte, nahezu verlassene Kleinstadt im Schwarzwald, um dem hektischen Stadtleben zu entfliehen. Eines Nachts bemerkt er ungewöhnliche Aktivitäten in einem alten, baufälligen Hotel am Rande der Stadt. Neugierig geworden, beginnt er, nachts das Hotel heimlich zu erkunden und hört dabei immer wieder eine melancholische Melodie, die aus einem alten Klavier zu kommen scheint.\n",
      "\n",
      "Er erfährt, dass das Hotel seit Jahrzehnten unbewohnt ist, nachdem eine berühmte Pianistin dort unter mysteriösen Umständen verschwand. Fasziniert von der Geschichte, kehrt Lukas jeden Abend zurück, versucht die Quelle der Melodie zu finden und wird das Gefühl nicht los, dass die Pianistin ihm irgendwie nahe ist. Seine Suche nach der Wahrheit wird zur Obsession, bis er eines Nachts ein vergilbtes Foto hinter dem Klavier entdeckt – das Foto zeigt die verschwundene Pianistin … und Lukas selbst, in der Kleidung und dem Stil von vor hundert Jahren.\n",
      "\n",
      "Der Twist: Lukas ist die Reinkarnation der vermissten Pianistin, und die Melodie ist ein Hilferuf aus seiner eigenen vergessenen Vergangenheit. Die Geister des Hotels haben darauf gewartet, dass er zurückkehrt, um das Rätsel seiner damaligen Ermordung aufzulösen und den Fluch aufzulösen, der das Hotel heimsucht.\n"
     ]
    }
   ],
   "source": [
    "idea = generate_text(\n",
    "    system_prompt=\"If you are a screenwriter for the TV show Beyond All Belief, or in German X-Faktor das Unfassbare, generate an idea for a short story for that particular TV show. Don't write acts, scenes or anything else. Just a quick idea. Include a twist.\",\n",
    "    user_prompt=f\"Return the idea as short text in {language}. The story should take place in {language}.\",\n",
    ")\n",
    "\n",
    "print(idea)"
   ]
  },
  {
   "cell_type": "code",
   "execution_count": 48,
   "metadata": {},
   "outputs": [
    {
     "name": "stdout",
     "output_type": "stream",
     "text": [
      "[Character(id='lukas', name='Lukas', description='Ein junger Mann, der dem hektischen Stadtleben entflieht und in eine fast verlassene Kleinstadt im Schwarzwald zieht.', appearance='Deutscher Mann, Anfang 30, mit kurzem braunem Haar und blauen Augen. Ethnie: europäisch. Trägt oft lässige Kleidung, die für Wanderungen im Schwarzwald geeignet ist.', voice='Will'), Character(id='clara', name='Clara', description='Die verschwundene Pianistin, deren Geist noch immer im alten Hotel verweilt.', appearance='Deutsche Frau, um die 25 Jahre alt, mit mittellangem gewelltem blonden Haar und grünen Augen. Ethnie: europäisch. Gekleidet in elegante, antike Abendkleidung aus dem frühen 20. Jahrhundert.', voice='Charlotte'), Character(id='johann', name='Johann', description='Ein älterer Bewohner der Stadt, der Lukas von der geheimnisvollen Geschichte des Hotels erzählt.', appearance='Deutscher Mann, Mitte 70, mit weißem Haar und braunen Augen. Ethnie: europäisch. Trägt eine alte, abgetragene Jacke und oft einen Hut.', voice='Bill'), Character(id='hans', name='Hans', description='Der Hausmeister des alten Hotels, der sich um das verlassene Gebäude kümmert.', appearance='Deutscher Mann, 50 Jahre alt, mit graumeliertem Haar und einem buschigen Bart. Ethnie: europäisch. Zieht robuste Arbeitskleidung an, die für harte Arbeit geeignet ist.', voice='Eric')]\n"
     ]
    }
   ],
   "source": [
    "class Character(BaseModel):\n",
    "    id: str\n",
    "    name: str\n",
    "    description: str\n",
    "    appearance: str\n",
    "    voice: Literal[\"Aria\", \"Roger\", \"Sarah\", \"Laura\", \"Charlie\", \"George\", \"Callum\", \"River\", \"Liam\", \"Charlotte\", \"Alice\", \"Matilda\", \"Will\", \"Jessica\", \"Eric\", \"Chris\", \"Brian\", \"Daniel\", \"Lily\", \"Bill\"]\n",
    "\n",
    "class Characters(BaseModel):\n",
    "    characters: List[Character]\n",
    "\n",
    "\n",
    "characters = generate_json(\n",
    "    system_prompt=f\"\"\"Generate the characters for a short story.\n",
    "Return the characters as a JSON:\n",
    "{{\n",
    "    \"characters\": [\n",
    "        {{\n",
    "            \"id\": a unique identifier for the character as a string, e.g the name in lower case (must be unique)\n",
    "            \"name\": the name of the character\n",
    "            \"description\": a short description of the character\n",
    "            \"appearance\": a short description of the character's appearance in style of prompt for an image generator in English, add country of origin, age, gender, hair color, eye color, ethnicity, clothing, etc.,\n",
    "            \"voice\": chose of voice for the character, you find a list below.\n",
    "        }}\n",
    "    ]\n",
    "}}\n",
    "in {language}.\n",
    "Here the list of voices: (they can all speak in {language}):\n",
    "1.\tAria: Expressive and middle-aged American female voice, ideal for social media content.\n",
    "2.\tRoger: Confident middle-aged American male voice, suited for social media applications.\n",
    "3.\tSarah: Soft, young American female voice, perfect for news delivery.\n",
    "4.\tLaura: Upbeat young American female voice, commonly used in social media settings.\n",
    "5.\tCharlie: Natural middle-aged Australian male voice, excellent for conversational purposes.\n",
    "6.\tGeorge: Warm middle-aged British male voice, great for narration.\n",
    "7.\tCallum: Intense middle-aged Transatlantic male voice, tailored for character-based uses.\n",
    "8.\tRiver: Confident middle-aged American non-binary voice, designed for social media.\n",
    "9.\tLiam: Articulate young American male voice, often used for narration.\n",
    "10.\tCharlotte: Seductive young Swedish female voice, crafted for character work.\n",
    "11.\tAlice: Confident middle-aged British female voice, suitable for news contexts.\n",
    "12.\tMatilda: Friendly middle-aged American female voice, fitting for narration.\n",
    "13.\tWill: Friendly young American male voice, focused on social media.\n",
    "14.\tJessica: Expressive young American female voice, ideal for conversational projects.\n",
    "15.\tEric: Friendly middle-aged American male voice, used for conversational settings.\n",
    "16.\tChris: Casual middle-aged American male voice, great for conversational uses.\n",
    "17.\tBrian: Deep middle-aged American male voice, primarily used for narration.\n",
    "18.\tDaniel: Authoritative middle-aged British male voice, perfect for news delivery.\n",
    "19.\tLily: Warm middle-aged British female voice, crafted for narration.\n",
    "20.\tBill: Trustworthy older American male voice, tailored for narration.\"\"\",\n",
    "    user_prompt=f\"The story should take place in {language}. Use common names in that language and region. The story is about a {idea}.\",\n",
    "    model=Characters,\n",
    ").characters\n",
    "\n",
    "print(characters)"
   ]
  },
  {
   "cell_type": "code",
   "execution_count": 92,
   "metadata": {},
   "outputs": [
    {
     "name": "stderr",
     "output_type": "stream",
     "text": [
      "  0%|          | 0/4 [00:00<?, ?it/s]"
     ]
    },
    {
     "name": "stdout",
     "output_type": "stream",
     "text": [
      "Deutscher Mann, Anfang 30, mit kurzem braunem Haar und blauen Augen. Ethnie: europäisch. Trägt oft lässige Kleidung, die für Wanderungen im Schwarzwald geeignet ist.\n"
     ]
    },
    {
     "name": "stderr",
     "output_type": "stream",
     "text": [
      " 25%|██▌       | 1/4 [00:08<00:24,  8.17s/it]"
     ]
    },
    {
     "name": "stdout",
     "output_type": "stream",
     "text": [
      "Deutsche Frau, um die 25 Jahre alt, mit mittellangem gewelltem blonden Haar und grünen Augen. Ethnie: europäisch. Gekleidet in elegante, antike Abendkleidung aus dem frühen 20. Jahrhundert.\n"
     ]
    },
    {
     "name": "stderr",
     "output_type": "stream",
     "text": [
      " 50%|█████     | 2/4 [00:15<00:15,  7.70s/it]"
     ]
    },
    {
     "name": "stdout",
     "output_type": "stream",
     "text": [
      "Deutscher Mann, Mitte 70, mit weißem Haar und braunen Augen. Ethnie: europäisch. Trägt eine alte, abgetragene Jacke und oft einen Hut.\n"
     ]
    },
    {
     "name": "stderr",
     "output_type": "stream",
     "text": [
      " 75%|███████▌  | 3/4 [00:23<00:07,  7.60s/it]"
     ]
    },
    {
     "name": "stdout",
     "output_type": "stream",
     "text": [
      "Deutscher Mann, 50 Jahre alt, mit graumeliertem Haar und einem buschigen Bart. Ethnie: europäisch. Zieht robuste Arbeitskleidung an, die für harte Arbeit geeignet ist.\n"
     ]
    },
    {
     "name": "stderr",
     "output_type": "stream",
     "text": [
      "100%|██████████| 4/4 [00:31<00:00,  7.96s/it]"
     ]
    },
    {
     "name": "stdout",
     "output_type": "stream",
     "text": [
      "{'lukas': {'filename': './content/f50eb527-f8a8-4ebc-bdbd-53df2acac234.jpg', 'url': 'https://pub-7fdd542f3dda44bcaef4c36bf4bb48e1.r2.dev/f50eb527-f8a8-4ebc-bdbd-53df2acac234.jpg'}, 'clara': {'filename': './content/8d56ee36-673b-41db-9e8e-f046dcf1314d.jpg', 'url': 'https://pub-7fdd542f3dda44bcaef4c36bf4bb48e1.r2.dev/8d56ee36-673b-41db-9e8e-f046dcf1314d.jpg'}, 'johann': {'filename': './content/e29c0f7a-dcaa-4ed1-b7dc-dc97e82de730.jpg', 'url': 'https://pub-7fdd542f3dda44bcaef4c36bf4bb48e1.r2.dev/e29c0f7a-dcaa-4ed1-b7dc-dc97e82de730.jpg'}, 'hans': {'filename': './content/bdcb3ab6-d9f4-4fcb-98c2-35c2b7ad82bc.jpg', 'url': 'https://pub-7fdd542f3dda44bcaef4c36bf4bb48e1.r2.dev/bdcb3ab6-d9f4-4fcb-98c2-35c2b7ad82bc.jpg'}}\n"
     ]
    },
    {
     "name": "stderr",
     "output_type": "stream",
     "text": [
      "\n"
     ]
    }
   ],
   "source": [
    "class FileMapping(TypedDict):\n",
    "    filename: str\n",
    "    url: str\n",
    "\n",
    "character_images: dict[str, FileMapping] = {}\n",
    "for character in tqdm(characters):\n",
    "    print(character.appearance)\n",
    "    file_path = generate_image(f\"A neutral portrait of {character.appearance}\")\n",
    "    character_images[character.id] = FileMapping(\n",
    "        filename=file_path,\n",
    "        url=upload_to_r2(file_path),\n",
    "    )\n",
    "\n",
    "print(character_images)"
   ]
  },
  {
   "cell_type": "code",
   "execution_count": 50,
   "metadata": {},
   "outputs": [
    {
     "name": "stdout",
     "output_type": "stream",
     "text": [
      "Act 1:\n",
      "Act 1: Lukas zieht in die idyllische, doch nahezu verlassene Kleinstadt im Schwarzwald ein, um dem dröhnenden Stadtleben zu entfliehen. Bei einem Spaziergang in der Dämmerung bemerkt er das alte, baufällige Hotel am Rande der Stadt, von dem ein geheimnisvolles Flair ausgeht. In den Abendstunden, als die Lichter der Stadt zurückweichen, sieht er ein schwaches Flackern aus einem der zerschmetterten Fenster und hört die melancholische Melodie eines Klaviers. Neugierig und von der melancholischen Melodie angezogen, beschließt Lukas, das Geheimnis weiter zu erkunden. Der Vorhang fällt, als er zögert und darüber nachdenkt, wie er das Gebäude unbemerkt betreten kann.\n",
      "Act 2:\n",
      "Act 2: Lukas nimmt Kontakt zu Johann auf, einem älteren Stadtbewohner, der die Geschichte des verwunschenen Hotels kennt. Johann erzählt ihm von der berühmten Pianistin Clara, die vor Jahrzehnten unter mysteriösen Umständen verschwunden ist. Der junge Mann ist fasziniert und beschließt, das Hotel bei Nacht heimlich zu betreten. Während er durch die staubigen Corridors schleicht, ertönt erneut die tieftraurige Melodie aus der Ferne. Die Spannung steigt, als Lukas sich dem alten Salon nähert, in dem das Klavier steht. Er entdeckt ein vergilbtes Foto hinter dem Instrument, das die Pianistin Clara zeigt. Neben ihr auf dem Bild steht ein Mann, der Lukas selbst zu sein scheint, in Kleidung von vor hundert Jahren. Der Akt endet mit Lukas' erschrockenem Gesichtsausdruck, als er realisiert, dass er in irgendeiner Weise mit der Vergangenheit des Hotels verbunden ist.\n",
      "Act 3:\n",
      "Act 3: Getrieben von der seltsamen Entdeckung, sucht Lukas den Hausmeister Hans auf, der sich um das verlassene Gebäude kümmert. Hans erzählt Lukas von den Geistern, die angeblich das Hotel heimsuchen und dass sie auf jemanden warten, der ein uraltes Rätsel löst. Lukas kehrt eines Nachts zurück zum Hotel, mit neuen Erkenntnissen zu seiner wahren Identität. Im Salon, vor dem alten Klavier, begegnet er dem Geist der Pianistin Clara. Sie enthüllt ihm, dass er die Reinkarnation ihrer selbst ist und dass die Melodie ein Hilferuf aus ihrer Vergangenheit war. Gemeinsam lösen Lukas und Clara das Rätsel von Claras Tod und befreien damit die Geister, die das Hotel bewohnen. Der Fluch wird gelöst und das Hotel beginnt, sich zu erhellen. Der Akt endet, als Lukas vor dem Hotel steht und in die Morgendämmerung blickt, inneren Frieden gefunden hat und bereit ist, sein neues Leben in der kleinen Stadt zu erleben.\n"
     ]
    }
   ],
   "source": [
    "class Act(BaseModel):\n",
    "    description: str\n",
    "\n",
    "\n",
    "class Acts(BaseModel):\n",
    "    acts: List[Act]\n",
    "\n",
    "acts = generate_json(\n",
    "    system_prompt=f\"\"\"Generate the acts for a short story. Make it a 3 act play. Return the acts as a JSON:\n",
    "{{\n",
    "    \"acts\": [\n",
    "        {{\n",
    "            \"description\": a short description of the act, the act need to be short around 2-3 minutes of screen time. Describe exactly what in the scene happens and how the scene ends. Don't describe the characters.\n",
    "        }}\n",
    "    ]\n",
    "}}\n",
    "in {language}.\"\"\",\n",
    "    user_prompt=f\"The story should take place in {language}. Use common names in that language and region. The story is about a {idea}. The only characters are {', '.join(str(obj) for obj in characters)}.\",\n",
    "    model=Acts,\n",
    ").acts\n",
    "\n",
    "for n, act in enumerate(acts):\n",
    "    print(f\"Act {n + 1}:\")\n",
    "    print(act.description)\n"
   ]
  },
  {
   "cell_type": "code",
   "execution_count": 56,
   "metadata": {},
   "outputs": [
    {
     "name": "stderr",
     "output_type": "stream",
     "text": [
      "100%|██████████| 1/1 [00:05<00:00,  5.34s/it]"
     ]
    },
    {
     "name": "stdout",
     "output_type": "stream",
     "text": [
      "Act 1, Scene 1:\n",
      "narration\n",
      "Die Kamera zeigt die idyllische, fast verlassene Kleinstadt im Schwarzwald. Im Hintergrund sind saftige, grüne Wälder zu sehen, eingefangen bei Sonnenuntergang. Lukas' altehrwürdiges Auto fährt eine gewundene Straße hinunter und hält vor einem kleinen, gemütlichen Haus am Rande der Stadt. Ein Gefühl der Ruhe breitet sich aus, als Lukas das Fahrzeug verlässt und sich umblickt, tief durchatmend, das schöne und ruhige Panorama aufnehmend.\n",
      "['lukas']\n",
      "Act 1, Scene 2:\n",
      "dialogue\n",
      "Während seines ersten Spaziergangs durch die Stadt begegnet Lukas Johann, einem älteren Bewohner. Die beiden unterhalten sich auf einer kleinen Parkbank, umgeben von hohen Tannen. Johann erzählt Lukas über das alte Hotel am Stadtrand, das ein düsteres Rätsel birgt und wo vor Jahrzehnten eine berühmte Pianistin verschwand. Lukas hört gespannt zu, als Johann von den merkwürdigen Geräuschen und Sichtungen berichtet, die hin und wieder aus dem verlassenen Gebäude dringen.\n",
      "['lukas', 'johann']\n",
      "Act 1, Scene 3:\n",
      "narration\n",
      "In der Dämmerung geht Lukas am Rande der Stadt spazieren und stößt auf das verfallene Hotel. Die Kamera schwenkt auf das zerbrochene Gebäude mit dem überwucherten Garten. Eine unheimlich-melancholische Melodie dringt durch die Luft, während im oberen Stockwerk ein schwaches Flackern zu erkennen ist. Lukas nähert sich langsam, fasziniert und zögerlich, das Gebäude neugierig betrachtend. Die Szene endet damit, dass er vor den großen, verzierten, aber jetzt verfallenen Eingangstüren steht und überlegt, wie er unbemerkt eintreten könnte.\n",
      "['lukas']\n"
     ]
    },
    {
     "name": "stderr",
     "output_type": "stream",
     "text": [
      "\n"
     ]
    }
   ],
   "source": [
    "class Scene(BaseModel):\n",
    "    type: Literal[\"narration\", \"dialogue\"]\n",
    "    characters: List[str]\n",
    "    description: str\n",
    "\n",
    "class Scenes(BaseModel):\n",
    "    scenes: List[Scene]\n",
    "\n",
    "act_scenes: List[List[Scene]] = []\n",
    "\n",
    "for act in tqdm(acts[0:1]):\n",
    "    scenes = generate_json(\n",
    "        system_prompt=f\"\"\"Generate the scenes for a short story. Make it 3 scenes. Make it a mix of narration and dialogue. Return the scenes as a JSON:\n",
    "{{\n",
    "    \"scenes\": [\n",
    "        {{\n",
    "            \"type\": \"narration\" or \"dialogue\". A narration is kind of a scenic view or an establishing shot with a video in the background and an off-text. A dialogue is a dialogue between two or more people.,\n",
    "            \"characters\": a list of the character IDs that are in the scene. If it is a narration, there should only be one character. If its a dialogue, it needs to be a least two characters.,\n",
    "            \"description\": a short description of the scene. It should have around 1 minute of screen time. Describe exactly what in the scene happens and how the scene ends. Don't describe the characters. Don't write dialogue or off-text. The scene can not include any characters.\n",
    "        }}\n",
    "    ]\n",
    "}}\n",
    "    in {language}.\"\"\",\n",
    "        user_prompt=f\"The story should take place in {language}. Use common names in that language and region. The story is about a {idea}. The only characters are {', '.join(str(obj) for obj in characters)}. The act you should generate the scenes for is {acts[0].description}.\",\n",
    "        model=Scenes,\n",
    "    ).scenes\n",
    "    act_scenes.append(scenes)\n",
    "\n",
    "for n, act in enumerate(act_scenes):\n",
    "    for m, scene in enumerate(act):\n",
    "        print(f\"Act {n + 1}, Scene {m + 1}:\")\n",
    "        print(scene.type)\n",
    "        print(scene.description)\n",
    "        print(scene.characters)\n"
   ]
  },
  {
   "cell_type": "code",
   "execution_count": 94,
   "metadata": {},
   "outputs": [
    {
     "name": "stdout",
     "output_type": "stream",
     "text": [
      "./content/115e49ad-f976-4eb3-86a1-00c7c7d1305b.jpg\n",
      "./content/2ccb8647-a77f-4f8e-aeda-cb646b44b62e.jpg\n"
     ]
    },
    {
     "ename": "Exception",
     "evalue": "Stop",
     "output_type": "error",
     "traceback": [
      "\u001b[0;31m---------------------------------------------------------------------------\u001b[0m",
      "\u001b[0;31mException\u001b[0m                                 Traceback (most recent call last)",
      "Cell \u001b[0;32mIn[94], line 59\u001b[0m\n\u001b[1;32m     52\u001b[0m     \u001b[38;5;28mprint\u001b[39m(character_images_for_scene[character])\n\u001b[1;32m     53\u001b[0m \u001b[38;5;66;03m# for line in tqdm(dialogue_result.lines):\u001b[39;00m\n\u001b[1;32m     54\u001b[0m \u001b[38;5;66;03m#     audio = generate_audio(\u001b[39;00m\n\u001b[1;32m     55\u001b[0m \u001b[38;5;66;03m#         line.text,\u001b[39;00m\n\u001b[1;32m     56\u001b[0m \u001b[38;5;66;03m#         next((item for item in characters if item.id == line.character), None).voice,\u001b[39;00m\n\u001b[1;32m     57\u001b[0m \u001b[38;5;66;03m#     )\u001b[39;00m\n\u001b[1;32m     58\u001b[0m \u001b[38;5;66;03m#     print(audio)\u001b[39;00m\n\u001b[0;32m---> 59\u001b[0m \u001b[38;5;28;01mraise\u001b[39;00m \u001b[38;5;167;01mException\u001b[39;00m(\u001b[38;5;124m\"\u001b[39m\u001b[38;5;124mStop\u001b[39m\u001b[38;5;124m\"\u001b[39m)\n",
      "\u001b[0;31mException\u001b[0m: Stop"
     ]
    }
   ],
   "source": [
    "class NarrationResult(BaseModel):\n",
    "    video_description: str\n",
    "    monologue: str\n",
    "\n",
    "class DialogueLine(BaseModel):\n",
    "    character: str\n",
    "    text: str\n",
    "\n",
    "class DialogueResult(BaseModel):\n",
    "    scene_background_description: str\n",
    "    lines: List[DialogueLine]\n",
    "\n",
    "for act in act_scenes:\n",
    "    for scene in act:\n",
    "        if scene.type == \"narration\":\n",
    "            narration_result = generate_json(\n",
    "                system_prompt=f\"\"\"Generate a narration for a short story. Return the narration as a JSON:\n",
    "{{\n",
    "    \"video_description\": a short description of the video for a video generator in English.,\n",
    "    \"monologue\": a short monologue of the narrator. It should be short 10-20 seconds. It's narrated by the character,\n",
    "}}\n",
    "in {language}.\"\"\",\n",
    "                user_prompt=f\"The story should take place in {language}. The story is about a {idea}. The only characters are {', '.join(str(obj) for obj in characters)}. The act you is {acts[0].description}. The scene you are generating the narration for is {scene.description}.\",\n",
    "                model=NarrationResult,\n",
    "            )\n",
    "            # video = generate_video(narration_result.video_description)\n",
    "            audio = generate_audio(\n",
    "                narration_result.monologue,\n",
    "                next((item for item in characters if item.id == scene.characters[0]), None).voice,\n",
    "            )\n",
    "            # print(video)\n",
    "            print(audio)\n",
    "            print(narration_result)\n",
    "        elif scene.type == \"dialogue\":\n",
    "            dialogue_result = generate_json(\n",
    "                system_prompt=f\"\"\"Generate a dialogue for a short story. Return the dialogue as a JSON:\n",
    "{{\n",
    "    \"scene_background_description\": a short description of the scene for a video generator in English. That with \"The character ..\",\n",
    "    \"lines\": {{\n",
    "        \"character\": the character ID,\n",
    "        \"text\": the text of the dialogue line,\n",
    "    }}\n",
    "}}\n",
    "in {language}.\"\"\",\n",
    "                user_prompt=f\"The story should take place in {language}. The story is about a {idea}. The only characters are {', '.join(str(obj) for obj in characters)}. The act you is {acts[0].description}. The scene you are generating the dialogue for is {scene.description}.\",\n",
    "                model=DialogueResult,\n",
    "            )\n",
    "            character_images_for_scene = {}\n",
    "            for character in scene.characters:\n",
    "                character_images_for_scene[character] = generate_image(dialogue_result.scene_background_description, character_images[character][\"url\"])\n",
    "                print(character_images_for_scene[character])\n",
    "            for line in tqdm(dialogue_result.lines):\n",
    "                audio = generate_audio(\n",
    "                    line.text,\n",
    "                    next((item for item in characters if item.id == line.character), None).voice,\n",
    "                )\n",
    "                print(audio)\n",
    "            raise Exception(\"Stop\")\n"
   ]
  }
 ],
 "metadata": {
  "kernelspec": {
   "display_name": "x-faktor-PDTE6C-r-py3.13",
   "language": "python",
   "name": "python3"
  },
  "language_info": {
   "codemirror_mode": {
    "name": "ipython",
    "version": 3
   },
   "file_extension": ".py",
   "mimetype": "text/x-python",
   "name": "python",
   "nbconvert_exporter": "python",
   "pygments_lexer": "ipython3",
   "version": "3.13.0"
  }
 },
 "nbformat": 4,
 "nbformat_minor": 2
}
